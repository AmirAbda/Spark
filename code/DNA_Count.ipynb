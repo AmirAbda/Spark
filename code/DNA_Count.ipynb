{
  "cells": [
    {
      "cell_type": "code",
      "execution_count": 1,
      "metadata": {
        "colab": {
          "base_uri": "https://localhost:8080/"
        },
        "id": "n4xpHuh578Bo",
        "outputId": "07ff0132-417e-4d13-b8e7-7dff1e11e839"
      },
      "outputs": [
        {
          "name": "stdout",
          "output_type": "stream",
          "text": [
            "Collecting pyspark\n",
            "  Downloading pyspark-3.5.2.tar.gz (317.3 MB)\n",
            "\u001b[2K     \u001b[90m━━━━━━━━━━━━━━━━━━━━━━━━━━━━━━━━━━━━━━━━\u001b[0m \u001b[32m317.3/317.3 MB\u001b[0m \u001b[31m4.3 MB/s\u001b[0m eta \u001b[36m0:00:00\u001b[0m\n",
            "\u001b[?25h  Preparing metadata (setup.py) ... \u001b[?25l\u001b[?25hdone\n",
            "Requirement already satisfied: py4j==0.10.9.7 in /usr/local/lib/python3.10/dist-packages (from pyspark) (0.10.9.7)\n",
            "Building wheels for collected packages: pyspark\n",
            "  Building wheel for pyspark (setup.py) ... \u001b[?25l\u001b[?25hdone\n",
            "  Created wheel for pyspark: filename=pyspark-3.5.2-py2.py3-none-any.whl size=317812365 sha256=f38a5403ac154f4fdfdc698839d6629ebe2aa4b4aad96a5c5fd2d65a5c5118d4\n",
            "  Stored in directory: /root/.cache/pip/wheels/34/34/bd/03944534c44b677cd5859f248090daa9fb27b3c8f8e5f49574\n",
            "Successfully built pyspark\n",
            "Installing collected packages: pyspark\n",
            "Successfully installed pyspark-3.5.2\n"
          ]
        }
      ],
      "source": [
        "!pip install pyspark"
      ]
    },
    {
      "cell_type": "code",
      "execution_count": 3,
      "metadata": {
        "colab": {
          "base_uri": "https://localhost:8080/",
          "height": 219
        },
        "id": "7NbesMm18QaG",
        "outputId": "f0c19ab5-d71f-4e21-9b50-7ddc5c1f0fed"
      },
      "outputs": [
        {
          "data": {
            "text/html": [
              "\n",
              "            <div>\n",
              "                <p><b>SparkSession - in-memory</b></p>\n",
              "                \n",
              "        <div>\n",
              "            <p><b>SparkContext</b></p>\n",
              "\n",
              "            <p><a href=\"http://b499c88c51d2:4040\">Spark UI</a></p>\n",
              "\n",
              "            <dl>\n",
              "              <dt>Version</dt>\n",
              "                <dd><code>v3.5.2</code></dd>\n",
              "              <dt>Master</dt>\n",
              "                <dd><code>local[*]</code></dd>\n",
              "              <dt>AppName</dt>\n",
              "                <dd><code>DNA-Count</code></dd>\n",
              "            </dl>\n",
              "        </div>\n",
              "        \n",
              "            </div>\n",
              "        "
            ],
            "text/plain": [
              "<pyspark.sql.session.SparkSession at 0x7b0898152f20>"
            ]
          },
          "execution_count": 3,
          "metadata": {},
          "output_type": "execute_result"
        }
      ],
      "source": [
        "from pyspark.sql import SparkSession\n",
        "\n",
        "spark = SparkSession.builder \\\n",
        "    .appName(\"DNA-Count\") \\\n",
        "    .getOrCreate()\n",
        "\n",
        "spark\n"
      ]
    },
    {
      "cell_type": "markdown",
      "metadata": {
        "id": "8xdNpXYjHy20"
      },
      "source": [
        "# New Section"
      ]
    },
    {
      "cell_type": "code",
      "execution_count": 5,
      "metadata": {
        "colab": {
          "base_uri": "https://localhost:8080/"
        },
        "id": "R7Jz0FYw--Eq",
        "outputId": "a9473ee2-5e26-4344-a107-17bcd8e3e8b8"
      },
      "outputs": [
        {
          "data": {
            "text/plain": [
              "['>seq1',\n",
              " 'cGTAaccaataaaaaaacaagcttaacctaattc',\n",
              " '>seq2',\n",
              " 'agcttagTTTGGatctggccgggg',\n",
              " '>seq3',\n",
              " 'gcggatttactcCCCCCAAAAANNaggggagagcccagataaatggagtctgtgcgtccaca',\n",
              " 'gaattcgcacca',\n",
              " 'AATAAAACCTCACCCAT',\n",
              " 'agagcccagaatttactcCCC',\n",
              " '>seq4',\n",
              " 'gcggatttactcaggggagagcccagGGataaatggagtctgtgcgtccaca',\n",
              " 'gaattcgcacca']"
            ]
          },
          "execution_count": 5,
          "metadata": {},
          "output_type": "execute_result"
        }
      ],
      "source": [
        "input_path = \"/content/sample.fasta\"\n",
        "\n",
        "\"\"\" Create an instance of SparkContext as sc \"\"\"\n",
        "sc = spark.sparkContext\n",
        "\n",
        "\"\"\" Read the input data \"\"\"\n",
        "records_rdd = sc.textFile(input_path)\n",
        "\n",
        "records_rdd.collect()\n"
      ]
    },
    {
      "cell_type": "code",
      "execution_count": 9,
      "metadata": {
        "colab": {
          "base_uri": "https://localhost:8080/"
        },
        "id": "VEtnS6CiC5tD",
        "outputId": "e69257b1-f3b1-4d34-def4-ddb238f1dd4f"
      },
      "outputs": [
        {
          "name": "stdout",
          "output_type": "stream",
          "text": [
            "('>seq1', 1)\n",
            "('c', 1)\n",
            "('g', 1)\n",
            "('t', 1)\n",
            "('a', 1)\n",
            "('a', 1)\n",
            "('c', 1)\n",
            "('c', 1)\n",
            "('a', 1)\n",
            "('a', 1)\n",
            "('t', 1)\n",
            "('a', 1)\n",
            "('a', 1)\n",
            "('a', 1)\n",
            "('a', 1)\n",
            "('a', 1)\n",
            "('a', 1)\n",
            "('a', 1)\n",
            "('c', 1)\n",
            "('a', 1)\n",
            "('a', 1)\n",
            "('g', 1)\n",
            "('c', 1)\n",
            "('t', 1)\n",
            "('t', 1)\n",
            "('a', 1)\n",
            "('a', 1)\n",
            "('c', 1)\n",
            "('c', 1)\n",
            "('t', 1)\n",
            "('a', 1)\n",
            "('a', 1)\n",
            "('t', 1)\n",
            "('t', 1)\n",
            "('c', 1)\n",
            "('>seq2', 1)\n",
            "('a', 1)\n",
            "('g', 1)\n",
            "('c', 1)\n",
            "('t', 1)\n",
            "('t', 1)\n",
            "('a', 1)\n",
            "('g', 1)\n",
            "('t', 1)\n",
            "('t', 1)\n",
            "('t', 1)\n",
            "('g', 1)\n",
            "('g', 1)\n",
            "('a', 1)\n",
            "('t', 1)\n",
            "('c', 1)\n",
            "('t', 1)\n",
            "('g', 1)\n",
            "('g', 1)\n",
            "('c', 1)\n",
            "('c', 1)\n",
            "('g', 1)\n",
            "('g', 1)\n",
            "('g', 1)\n",
            "('g', 1)\n",
            "('>seq3', 1)\n",
            "('g', 1)\n",
            "('c', 1)\n",
            "('g', 1)\n",
            "('g', 1)\n",
            "('a', 1)\n",
            "('t', 1)\n",
            "('t', 1)\n",
            "('t', 1)\n",
            "('a', 1)\n",
            "('c', 1)\n",
            "('t', 1)\n",
            "('c', 1)\n",
            "('c', 1)\n",
            "('c', 1)\n",
            "('c', 1)\n",
            "('c', 1)\n",
            "('c', 1)\n",
            "('a', 1)\n",
            "('a', 1)\n",
            "('a', 1)\n",
            "('a', 1)\n",
            "('a', 1)\n",
            "('n', 1)\n",
            "('n', 1)\n",
            "('a', 1)\n",
            "('g', 1)\n",
            "('g', 1)\n",
            "('g', 1)\n",
            "('g', 1)\n",
            "('a', 1)\n",
            "('g', 1)\n",
            "('a', 1)\n",
            "('g', 1)\n",
            "('c', 1)\n",
            "('c', 1)\n",
            "('c', 1)\n",
            "('a', 1)\n",
            "('g', 1)\n",
            "('a', 1)\n",
            "('t', 1)\n",
            "('a', 1)\n",
            "('a', 1)\n",
            "('a', 1)\n",
            "('t', 1)\n",
            "('g', 1)\n",
            "('g', 1)\n",
            "('a', 1)\n",
            "('g', 1)\n",
            "('t', 1)\n",
            "('c', 1)\n",
            "('t', 1)\n",
            "('g', 1)\n",
            "('t', 1)\n",
            "('g', 1)\n",
            "('c', 1)\n",
            "('g', 1)\n",
            "('t', 1)\n",
            "('c', 1)\n",
            "('c', 1)\n",
            "('a', 1)\n",
            "('c', 1)\n",
            "('a', 1)\n",
            "('g', 1)\n",
            "('a', 1)\n",
            "('a', 1)\n",
            "('t', 1)\n",
            "('t', 1)\n",
            "('c', 1)\n",
            "('g', 1)\n",
            "('c', 1)\n",
            "('a', 1)\n",
            "('c', 1)\n",
            "('c', 1)\n",
            "('a', 1)\n",
            "('a', 1)\n",
            "('a', 1)\n",
            "('t', 1)\n",
            "('a', 1)\n",
            "('a', 1)\n",
            "('a', 1)\n",
            "('a', 1)\n",
            "('c', 1)\n",
            "('c', 1)\n",
            "('t', 1)\n",
            "('c', 1)\n",
            "('a', 1)\n",
            "('c', 1)\n",
            "('c', 1)\n",
            "('c', 1)\n",
            "('a', 1)\n",
            "('t', 1)\n",
            "('a', 1)\n",
            "('g', 1)\n",
            "('a', 1)\n",
            "('g', 1)\n",
            "('c', 1)\n",
            "('c', 1)\n",
            "('c', 1)\n",
            "('a', 1)\n",
            "('g', 1)\n",
            "('a', 1)\n",
            "('a', 1)\n",
            "('t', 1)\n",
            "('t', 1)\n",
            "('t', 1)\n",
            "('a', 1)\n",
            "('c', 1)\n",
            "('t', 1)\n",
            "('c', 1)\n",
            "('c', 1)\n",
            "('c', 1)\n",
            "('c', 1)\n",
            "('>seq4', 1)\n",
            "('g', 1)\n",
            "('c', 1)\n",
            "('g', 1)\n",
            "('g', 1)\n",
            "('a', 1)\n",
            "('t', 1)\n",
            "('t', 1)\n",
            "('t', 1)\n",
            "('a', 1)\n",
            "('c', 1)\n",
            "('t', 1)\n",
            "('c', 1)\n",
            "('a', 1)\n",
            "('g', 1)\n",
            "('g', 1)\n",
            "('g', 1)\n",
            "('g', 1)\n",
            "('a', 1)\n",
            "('g', 1)\n",
            "('a', 1)\n",
            "('g', 1)\n",
            "('c', 1)\n",
            "('c', 1)\n",
            "('c', 1)\n",
            "('a', 1)\n",
            "('g', 1)\n",
            "('g', 1)\n",
            "('g', 1)\n",
            "('a', 1)\n",
            "('t', 1)\n",
            "('a', 1)\n",
            "('a', 1)\n",
            "('a', 1)\n",
            "('t', 1)\n",
            "('g', 1)\n",
            "('g', 1)\n",
            "('a', 1)\n",
            "('g', 1)\n",
            "('t', 1)\n",
            "('c', 1)\n",
            "('t', 1)\n",
            "('g', 1)\n",
            "('t', 1)\n",
            "('g', 1)\n",
            "('c', 1)\n",
            "('g', 1)\n",
            "('t', 1)\n",
            "('c', 1)\n",
            "('c', 1)\n",
            "('a', 1)\n",
            "('c', 1)\n",
            "('a', 1)\n",
            "('g', 1)\n",
            "('a', 1)\n",
            "('a', 1)\n",
            "('t', 1)\n",
            "('t', 1)\n",
            "('c', 1)\n",
            "('g', 1)\n",
            "('c', 1)\n",
            "('a', 1)\n",
            "('c', 1)\n",
            "('c', 1)\n",
            "('a', 1)\n"
          ]
        }
      ],
      "source": [
        "def process_record(fasta_record):\n",
        "    key_value_list = []\n",
        "\n",
        "    if fasta_record.startswith(\">\"):\n",
        "        key_value_list.append((fasta_record, 1))\n",
        "    else:\n",
        "        chars = fasta_record.lower()\n",
        "        for c in chars:\n",
        "            key_value_list.append((c, 1))\n",
        "\n",
        "    return key_value_list\n",
        "\n",
        "\"\"\" Apply the function to the RDD and collect the results \"\"\"\n",
        "pairs_rdd = records_rdd.flatMap(lambda rec: process_record(rec))\n",
        "collected_pairs = pairs_rdd.collect()\n",
        "\n",
        "\"\"\" Print the collected pairs \"\"\"\n",
        "for pair in collected_pairs:\n",
        "    print(pair)"
      ]
    },
    {
      "cell_type": "code",
      "execution_count": 10,
      "metadata": {
        "colab": {
          "base_uri": "https://localhost:8080/"
        },
        "id": "KHFyczEgGPwI",
        "outputId": "a7c6fd77-7be3-4e9f-f0fe-6b470354f6eb"
      },
      "outputs": [
        {
          "data": {
            "text/plain": [
              "[('>seq1', 1),\n",
              " ('c', 61),\n",
              " ('g', 53),\n",
              " ('>seq4', 1),\n",
              " ('t', 45),\n",
              " ('a', 73),\n",
              " ('>seq2', 1),\n",
              " ('>seq3', 1),\n",
              " ('n', 2)]"
            ]
          },
          "execution_count": 10,
          "metadata": {},
          "output_type": "execute_result"
        }
      ],
      "source": [
        "\"\"\" reduce step : count the frequnecy of each letter \"\"\"\n",
        "frequencies_rdd = pairs_rdd.reduceByKey(lambda x, y: x+y)\n",
        "frequencies_rdd.collect()"
      ]
    }
  ],
  "metadata": {
    "colab": {
      "provenance": [],
      "toc_visible": true
    },
    "kernelspec": {
      "display_name": "Python 3",
      "name": "python3"
    },
    "language_info": {
      "name": "python",
      "version": "3.11.5"
    }
  },
  "nbformat": 4,
  "nbformat_minor": 0
}
